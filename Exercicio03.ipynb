{
 "cells": [
  {
   "cell_type": "markdown",
   "metadata": {},
   "source": [
    "1. Faça um Programa que peça dois números e imprima o maior deles."
   ]
  },
  {
   "cell_type": "code",
   "execution_count": 1,
   "metadata": {},
   "outputs": [
    {
     "name": "stdout",
     "output_type": "stream",
     "text": [
      "Digite um número: 1\n",
      "Digite outro número: 2\n",
      "2 é maior que 1\n"
     ]
    }
   ],
   "source": [
    "numa = int(input('Digite um número: '))\n",
    "numb = int(input('Digite outro número: '))\n",
    "\n",
    "if numa > numb:\n",
    "    print(f'{numa} é maior que {numb}')\n",
    "else:\n",
    "    print(f'{numb} é maior que {numa}')"
   ]
  },
  {
   "cell_type": "markdown",
   "metadata": {},
   "source": [
    "2. Faça um Programa que verifique se uma letra digitada é vogal ou consoante."
   ]
  },
  {
   "cell_type": "code",
   "execution_count": 4,
   "metadata": {},
   "outputs": [
    {
     "name": "stdout",
     "output_type": "stream",
     "text": [
      "Digite uma letraa\n",
      "A letra digitada é uma vogal\n"
     ]
    }
   ],
   "source": [
    "letra = input('Digite uma letra')\n",
    "letra.lower()\n",
    "vogais = ['a', 'e', 'i', 'o', 'u']\n",
    "confere = False\n",
    "\n",
    "for l in vogais:\n",
    "    if letra == l:\n",
    "        confere = True\n",
    "\n",
    "if confere == True:\n",
    "    print('A letra digitada é uma vogal')\n",
    "else:\n",
    "    print('A letra digitada é uma consoante')\n"
   ]
  },
  {
   "cell_type": "markdown",
   "metadata": {},
   "source": [
    "3. Faça um programa para a leitura de duas notas parciais de um aluno. O programa\n",
    "deve calcular a média alcançada por aluno e apresentar:\n",
    "- A mensagem \"Aprovado\", se a média alcançada for maior ou igual a sete;\n",
    "- A mensagem \"Reprovado\", se a média for menor do que sete;\n",
    "- A mensagem \"Aprovado com Distinção\", se a média for igual a dez."
   ]
  },
  {
   "cell_type": "code",
   "execution_count": 6,
   "metadata": {},
   "outputs": [
    {
     "name": "stdout",
     "output_type": "stream",
     "text": [
      "Digite a primeira nota (Max: 10): 10\n",
      "Digite a segunda nota (Max: 10): 10\n",
      "Aprovado com Distinção\n"
     ]
    }
   ],
   "source": [
    "nota1 = float(input('Digite a primeira nota (Max: 10): '))\n",
    "nota2 = float(input('Digite a segunda nota (Max: 10): '))\n",
    "media = (nota1 + nota2) / 2\n",
    "\n",
    "if media < 7.0:\n",
    "    print('Reprovado')\n",
    "elif media == 10.0:\n",
    "    print('Aprovado com Distinção')\n",
    "elif media > 7.0:\n",
    "    print('Aprovado')"
   ]
  },
  {
   "cell_type": "markdown",
   "metadata": {},
   "source": [
    "4. Faça um Programa que leia três números e mostre-os em ordem decrescente."
   ]
  },
  {
   "cell_type": "code",
   "execution_count": 2,
   "metadata": {},
   "outputs": [
    {
     "name": "stdout",
     "output_type": "stream",
     "text": [
      "Digite um número1\n",
      "Digite um número2\n",
      "Digite um número3\n",
      "[3, 2, 1]\n"
     ]
    }
   ],
   "source": [
    "lista = []\n",
    "x = 0\n",
    "while x < 3:\n",
    "    lista.append(int(input('Digite um número')))\n",
    "    x = x + 1\n",
    "\n",
    "lista.sort()\n",
    "\n",
    "print(lista[::-1])"
   ]
  },
  {
   "cell_type": "markdown",
   "metadata": {},
   "source": [
    "5. As Organizações Tabajara resolveram dar um aumento de salário aos seus\n",
    "colaboradores e lhe contrataram para desenvolver o programa que calculará os\n",
    "reajustes.\n",
    "Faça um programa que recebe o salário de um colaborador e o reajuste segundo o\n",
    "seguinte critério, baseado no salário atual:\n",
    "- salários até R$ 280,00 (incluindo) : aumento de 20%\n",
    "- salários entre R$ 280,00 e R$ 700,00 : aumento de 15%\n",
    "- salários entre R$ 700,00 e R$ 1500,00 : aumento de 10%\n",
    "- salários de R$ 1500,00 em diante : aumento de 5% \n",
    "Após o aumento ser realizado, informe na tela:\n",
    "- o salário antes do reajuste;\n",
    "- o percentual de aumento aplicado;\n",
    "- o valor do aumento;\n",
    "- o novo salário, após o aumento."
   ]
  },
  {
   "cell_type": "code",
   "execution_count": 3,
   "metadata": {},
   "outputs": [
    {
     "name": "stdout",
     "output_type": "stream",
     "text": [
      "Digite o salário: 190.0\n",
      "Salário anterior: R$190.0\n",
      "Percentual do aumento: 20%\n",
      "Valor do Aumento: R$38.0\n",
      "Novo salário: R$228.0\n"
     ]
    }
   ],
   "source": [
    "sal = float(input('Digite o salário: '))\n",
    "reaj = 0\n",
    "per = 0\n",
    "aum = 0\n",
    "\n",
    "if sal <= 280.0:\n",
    "    per = 20\n",
    "elif sal > 280.0 and sal <= 700.0:\n",
    "    per = 15\n",
    "elif sal > 700.0 and sal <= 1500.0:\n",
    "    per = 10\n",
    "elif sal > 1500:\n",
    "    per = 5\n",
    "    \n",
    "aum = (sal / 100) * per\n",
    "reaj = sal + aum\n",
    "\n",
    "print(f'Salário anterior: R${sal}\\nPercentual do aumento: {per}%\\nValor do Aumento: R${aum}\\nNovo salário: R${reaj}')"
   ]
  },
  {
   "cell_type": "markdown",
   "metadata": {},
   "source": [
    "6. Faça um Programa que leia um número e exiba o dia correspondente da semana.\n",
    "(1-Domingo, 2- Segunda, etc.), se digitar outro valor deve aparecer valor inválido."
   ]
  },
  {
   "cell_type": "code",
   "execution_count": 9,
   "metadata": {},
   "outputs": [
    {
     "name": "stdout",
     "output_type": "stream",
     "text": [
      "Digite um número entre 1 e 7: 0\n",
      "Valor inválido\n"
     ]
    }
   ],
   "source": [
    "semana = {1:'Domingo', 2:'Segunda', 3:'Terça', 4:'Quarta', 5:'Quinta', 6:'Sexta', 7:'Sábado'}\n",
    "val = int(input('Digite um número entre 1 e 7: '))\n",
    "if val > 0 and val < 7:\n",
    "    print(semana[val])\n",
    "else:\n",
    "    print('Valor inválido')"
   ]
  },
  {
   "cell_type": "markdown",
   "metadata": {},
   "source": [
    "7. Faça um programa que lê as duas notas parciais obtidas por um aluno numa\n",
    "disciplina ao longo de um semestre, e calcule a sua média. A atribuição de conceitos\n",
    "obedece à tabela abaixo:\n",
    "Média de Aproveitamento Conceito\n",
    "Entre 9.0 e 10.0 A\n",
    "Entre 7.5 e 9.0 B\n",
    "Entre 6.0 e 7.5 C\n",
    "Entre 4.0 e 6.0 D\n",
    "Entre 4.0 e zero E\n",
    "O algoritmo deve mostrar na tela as notas, a média, o conceito correspondente e a\n",
    "mensagem “APROVADO” se o conceito for A, B ou C ou “REPROVADO” se o conceito\n",
    "for D ou E."
   ]
  },
  {
   "cell_type": "code",
   "execution_count": 2,
   "metadata": {},
   "outputs": [
    {
     "name": "stdout",
     "output_type": "stream",
     "text": [
      "Digite a primeira nota (Max: 10): 10\n",
      "Digite a segunda nota (Max: 10): 9\n",
      "Notas: 10.0 e 9.0\n",
      "Média: 9.5\n",
      "Conceito: A\n",
      "APROVADO\n"
     ]
    }
   ],
   "source": [
    "nota1 = float(input('Digite a primeira nota (Max: 10): '))\n",
    "nota2 = float(input('Digite a segunda nota (Max: 10): '))\n",
    "media = (nota1 + nota2) / 2\n",
    "status = 0\n",
    "conceito = 0\n",
    "\n",
    "if media >= 9.0 and media <= 10:\n",
    "    conceito = 'A'\n",
    "    status = 'APROVADO'\n",
    "elif media >= 7.5 and media < 9.0:\n",
    "    conceito = 'B'\n",
    "    status = 'APROVADO'\n",
    "elif media >= 6.0 and media < 7.5:\n",
    "    conceito = 'C'\n",
    "    status = 'APROVADO'\n",
    "elif media >= 4.0 and media < 6.0:\n",
    "    conceito = 'D'\n",
    "    status = 'REPROVADO'\n",
    "elif media < 4.0:\n",
    "    conceito = 'E'\n",
    "    status = 'REPROVADO'\n",
    "\n",
    "print(f'Notas: {nota1} e {nota2}\\nMédia: {media}\\nConceito: {conceito}\\n{status}')"
   ]
  },
  {
   "cell_type": "markdown",
   "metadata": {},
   "source": [
    "8. Faça um Programa que peça os 3 lados de um triângulo. O programa deverá\n",
    "informar se os valores podem ser um triângulo. Indique, caso os lados formem um\n",
    "triângulo, se o mesmo é: equilátero, isósceles ou escaleno.\n",
    "Dicas:\n",
    "- Três lados formam um triângulo quando a soma de quaisquer dois lados for maior\n",
    "que o terceiro;\n",
    "- Triângulo Equilátero: três lados iguais;\n",
    "- Triângulo Isósceles: quaisquer dois lados iguais;\n",
    "- Triângulo Escaleno: três lados diferentes;"
   ]
  },
  {
   "cell_type": "code",
   "execution_count": 4,
   "metadata": {},
   "outputs": [
    {
     "name": "stdout",
     "output_type": "stream",
     "text": [
      "Digite o lado do triangulo: 1\n",
      "Digite o lado do triangulo: 2\n",
      "Digite o lado do triangulo: 3\n",
      "Os valores formam um triângulo escaleno.\n"
     ]
    }
   ],
   "source": [
    "la = float(input('Digite o lado do triangulo: '))\n",
    "lb = float(input('Digite o lado do triangulo: '))\n",
    "lc = float(input('Digite o lado do triangulo: '))\n",
    "\n",
    "if (la + lb) > lc or (la + lc) > lb or (lb + lc) > la:\n",
    "    if la == lb and lb == lc:\n",
    "        print('Os valores formam um triângulo equilátero.')\n",
    "    elif la == lb or la == lc or lb == lc:\n",
    "        print('Os valores formam um triângulo isósceles.')\n",
    "    elif la != lb and lb != lc and lc != la:\n",
    "        print('Os valores formam um triângulo escaleno.')\n",
    "else:\n",
    "    print('Os valores não formam um triângulo.')"
   ]
  },
  {
   "cell_type": "markdown",
   "metadata": {},
   "source": [
    "9. Faça um programa que calcule as raízes de uma equação do segundo grau, na\n",
    "forma ax2 + bx + c. O programa deverá pedir os valores de a, b e c e fazer as\n",
    "consistências, informando ao usuário nas seguintes situações:\n",
    "- Se o usuário informar o valor de A igual a zero, a equação não é do segundo grau e o programa não deve fazer pedir os demais valores, sendo encerrado;\n",
    "- Se o delta calculado for negativo, a equação não possui raizes reais. Informe ao usuário e encerre o programa;\n",
    "- Se o delta calculado for igual a zero a equação possui apenas uma raiz real; informe-a ao usuário;\n",
    "- Se o delta for positivo, a equação possui duas raiz reais; informe-as ao usuário;"
   ]
  },
  {
   "cell_type": "code",
   "execution_count": null,
   "metadata": {},
   "outputs": [],
   "source": []
  }
 ],
 "metadata": {
  "kernelspec": {
   "display_name": "Python 3",
   "language": "python",
   "name": "python3"
  },
  "language_info": {
   "codemirror_mode": {
    "name": "ipython",
    "version": 3
   },
   "file_extension": ".py",
   "mimetype": "text/x-python",
   "name": "python",
   "nbconvert_exporter": "python",
   "pygments_lexer": "ipython3",
   "version": "3.7.0"
  }
 },
 "nbformat": 4,
 "nbformat_minor": 2
}
