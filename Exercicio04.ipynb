{
 "cells": [
  {
   "cell_type": "markdown",
   "metadata": {},
   "source": [
    "1 Menor de dois pares: Escreva uma função que retorne o menor de dois números\n",
    "dados se ambos os números forem pares, mas retorna o maior se um dos dois for\n",
    "ímpar. Exemplo:\n",
    "menor_de_dois_pares(2,4) --> 2\n",
    "menor_de_dois_pares (2,5) --> 5"
   ]
  },
  {
   "cell_type": "code",
   "execution_count": 1,
   "metadata": {},
   "outputs": [
    {
     "name": "stdout",
     "output_type": "stream",
     "text": [
      "Digite um número: 1\n",
      "Digite outro número: 2\n",
      "2\n"
     ]
    }
   ],
   "source": [
    "def menor_par(arg1, arg2):\n",
    "    if (arg1 % 2) == 0 and (arg2 % 2) == 0:\n",
    "        if arg1 > arg2:\n",
    "            return arg2\n",
    "        else:\n",
    "            return arg1\n",
    "    else:\n",
    "        if arg1 > arg2:\n",
    "            return arg1\n",
    "        else:\n",
    "            return arg2\n",
    "\n",
    "var1 = int(input('Digite um número: '))\n",
    "var2 = int(input('Digite outro número: '))\n",
    "\n",
    "print(menor_par(var1, var2))"
   ]
  },
  {
   "cell_type": "markdown",
   "metadata": {},
   "source": [
    "2 Mesma letra: Escreva uma função que receba uma string com duas palavras e\n",
    "retorne True se ambas palavras começarem com a mesma letra. Exemplo:\n",
    "mesma_letra('Cão covarde') -> True\n",
    "mesma_letra('Vira Lata') -> False"
   ]
  },
  {
   "cell_type": "code",
   "execution_count": 10,
   "metadata": {},
   "outputs": [
    {
     "name": "stdout",
     "output_type": "stream",
     "text": [
      "True\n",
      "False\n"
     ]
    }
   ],
   "source": [
    "def mesma_letra(arg):\n",
    "    argl = arg.lower()\n",
    "    a = argl.split()[0]\n",
    "    b = argl.split()[1]\n",
    "    if a[0] == b[0]:\n",
    "        print('True')\n",
    "    else:\n",
    "        print('False')\n",
    "\n",
    "mesma_letra('Cão covarde')\n",
    "mesma_letra('Vira Lata')"
   ]
  },
  {
   "cell_type": "markdown",
   "metadata": {},
   "source": [
    "3 Mestre Yoda: Dada uma sentença, a função deve retornar a sentença com as\n",
    "palavras na ordem reversa. Exemplo:\n",
    "mestre_yoda(\"Eu estou em casa\") --> \"casa em estou Eu\"\n",
    "mestre_yoda(\"Estamos prontos\") --> \"prontos Estamos\""
   ]
  },
  {
   "cell_type": "code",
   "execution_count": 18,
   "metadata": {},
   "outputs": [
    {
     "name": "stdout",
     "output_type": "stream",
     "text": [
      "casa em estou Eu \n",
      "prontos Estamos \n"
     ]
    }
   ],
   "source": [
    "def mestre_yoda(arg):\n",
    "    argy = \"\"\n",
    "    for p in arg.split():\n",
    "        argy = p+ \" \" + argy\n",
    "    print(argy)\n",
    "    \n",
    "mestre_yoda(\"Eu estou em casa\")\n",
    "mestre_yoda(\"Estamos prontos\")"
   ]
  },
  {
   "cell_type": "markdown",
   "metadata": {},
   "source": [
    "4 Tem 33: Faça uma função que retorne True se, dada uma lista de inteiros, houver\n",
    "em alguma posição da lista um 3 do lado de outro 3. Exemplo:\n",
    "tem_33([1,3,3]) --> True\n",
    "tem_33([1,3,1,3]) --> False\n",
    "tem_33([3,1,3]) --> False"
   ]
  },
  {
   "cell_type": "code",
   "execution_count": 22,
   "metadata": {},
   "outputs": [
    {
     "name": "stdout",
     "output_type": "stream",
     "text": [
      "True\n",
      "False\n",
      "False\n"
     ]
    }
   ],
   "source": [
    "def tem_33(arg):\n",
    "    b = 0\n",
    "    conf = False\n",
    "    for n in arg:\n",
    "        if n == 3 and  b == n:\n",
    "            conf = True\n",
    "        b = n\n",
    "    return conf\n",
    "\n",
    "print(tem_33([1,3,3]))\n",
    "print(tem_33([1,3,1,3]))\n",
    "print(tem_33([3,1,3]))"
   ]
  },
  {
   "cell_type": "markdown",
   "metadata": {},
   "source": [
    "5 Blackjack: Faça uma função que receba 3 inteiros entre 1 e 11. Se a soma deles for\n",
    "menor que 21, retorne o valor da soma. Se for maior do que 21 e houver um 11,\n",
    "subtraia 10 da soma antes de apresentar o resultado. Se o valor da soma passar de\n",
    "21, retorne ‘ESTOUROU’. Exemplo:\n",
    "blackjack(5,6,7) --> 18\n",
    "blackjack(9,9,9) --> 'ESTOUROU';\n",
    "blackjack(9,9,11) --> 19"
   ]
  },
  {
   "cell_type": "code",
   "execution_count": 24,
   "metadata": {},
   "outputs": [
    {
     "name": "stdout",
     "output_type": "stream",
     "text": [
      "18\n",
      "ESTOUROU\n",
      "19\n"
     ]
    }
   ],
   "source": [
    "def blackjack(arg1, arg2, arg3):\n",
    "    soma = arg1 + arg2 + arg3\n",
    "    if soma <= 21:\n",
    "        return soma\n",
    "    elif soma > 21:\n",
    "        if arg1 == 11 or arg2 == 11 or arg3 == 11:\n",
    "            soma = soma - 10\n",
    "            return soma\n",
    "        else:\n",
    "            return \"ESTOUROU\"\n",
    "\n",
    "print(blackjack(5,6,7))\n",
    "print(blackjack(9,9,9))\n",
    "print(blackjack(9,9,11))"
   ]
  },
  {
   "cell_type": "markdown",
   "metadata": {},
   "source": [
    "6 Espião: Escreva uma função que receba uma lista de\n",
    "inteiros e retorne True se contém um 007 em ordem, mesmo\n",
    "que não contínuo. Exemplo:\n",
    "espiao([1,2,4,0,0,7,5]) --> True\n",
    "espiao([1,0,2,4,0,5,7]) --> True\n",
    "espiao([1,7,2,4,0,5,0]) --> False"
   ]
  },
  {
   "cell_type": "code",
   "execution_count": 25,
   "metadata": {},
   "outputs": [
    {
     "name": "stdout",
     "output_type": "stream",
     "text": [
      "True\n",
      "True\n",
      "False\n"
     ]
    }
   ],
   "source": [
    "def espiao(args):\n",
    "    flag1 = False\n",
    "    flag2 = False\n",
    "    flag3 = False\n",
    "    \n",
    "    for n in args:\n",
    "        if n == 0:\n",
    "            flag1 = True\n",
    "        if n == 0 and flag1 == True:\n",
    "            flag2 = True\n",
    "        if n == 7 and flag1 == True and flag2 == True:\n",
    "            flag3 = True\n",
    "    return flag3\n",
    "\n",
    "print(espiao([1,2,4,0,0,7,5]))\n",
    "print(espiao([1,0,2,4,0,5,7]))\n",
    "print(espiao([1,7,2,4,0,5,0]))"
   ]
  },
  {
   "cell_type": "code",
   "execution_count": null,
   "metadata": {},
   "outputs": [],
   "source": []
  }
 ],
 "metadata": {
  "kernelspec": {
   "display_name": "Python 3",
   "language": "python",
   "name": "python3"
  },
  "language_info": {
   "codemirror_mode": {
    "name": "ipython",
    "version": 3
   },
   "file_extension": ".py",
   "mimetype": "text/x-python",
   "name": "python",
   "nbconvert_exporter": "python",
   "pygments_lexer": "ipython3",
   "version": "3.7.4"
  }
 },
 "nbformat": 4,
 "nbformat_minor": 2
}
