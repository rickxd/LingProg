{
 "cells": [
  {
   "cell_type": "markdown",
   "metadata": {},
   "source": [
    "1 Crie um programa que recebe uma lista de números e\n",
    "- retorne o maior elemento\n",
    "- retorne a soma dos elementos\n",
    "- retorne o número de ocorrências do primeiro elemento da lista\n",
    "- retorne a média dos elementos\n",
    "- retorne o valor mais próximo da média dos elementos\n",
    "- retorne a soma dos elementos com valor negativo\n",
    "- retorne a quantidade de vizinhos iguais"
   ]
  },
  {
   "cell_type": "code",
   "execution_count": 6,
   "metadata": {},
   "outputs": [
    {
     "name": "stdout",
     "output_type": "stream",
     "text": [
      "Digite um número: 1\n",
      "Digite um número (Digite -0 para finalizar a lista): 1\n",
      "Digite um número (Digite -0 para finalizar a lista): 2\n",
      "Digite um número (Digite -0 para finalizar a lista): 2\n",
      "Digite um número (Digite -0 para finalizar a lista): -3\n",
      "Digite um número (Digite -0 para finalizar a lista): -7\n",
      "Digite um número (Digite -0 para finalizar a lista): 10\n",
      "Digite um número (Digite -0 para finalizar a lista): -6\n",
      "Digite um número (Digite -0 para finalizar a lista): 8\n",
      "Digite um número (Digite -0 para finalizar a lista): -0\n",
      "Maior elemento: 10\n",
      "Soma dos elementos: 8\n",
      "Numero de ocorrências do primeiro elemento: 2\n",
      "Média dos elementos: 0.8888888888888888\n",
      "Valor mais próximo da média: 8\n",
      "Soma dos negativos: -16\n",
      "Quantidade de vizinhos iguais: 2\n"
     ]
    }
   ],
   "source": [
    "mylist = []\n",
    "maior = 0\n",
    "soma = 0\n",
    "prim = 0\n",
    "quant = 0\n",
    "med = 0\n",
    "val = 0\n",
    "neg = 0\n",
    "ant = 0\n",
    "eq = 0\n",
    "inp = 0\n",
    "valor = int(input('Digite um número: '))\n",
    "while valor != -0:\n",
    "    mylist.append(valor)\n",
    "    valor = int(input('Digite um número (Digite -0 para finalizar a lista): '))\n",
    "\n",
    "prim = mylist[0]\n",
    "    \n",
    "for num in mylist:\n",
    "    if num == ant:\n",
    "        eq = eq + 1\n",
    "    if maior < num:\n",
    "        maior = num\n",
    "    soma = soma + num\n",
    "    if prim == num:\n",
    "        quant = quant + 1\n",
    "    if num < 0:\n",
    "        neg = neg + num\n",
    "    ant = num\n",
    "med = soma / len(mylist)\n",
    "dif = 0\n",
    "difant = 0\n",
    "for num in mylist:\n",
    "    dif = med - num\n",
    "    if dif < difant:\n",
    "        val = num\n",
    "    difant = dif\n",
    "\n",
    "print(f'Maior elemento: {maior}')\n",
    "print(f'Soma dos elementos: {soma}')\n",
    "print(f'Numero de ocorrências do primeiro elemento: {quant}')\n",
    "print(f'Média dos elementos: {med}')\n",
    "print(f'Valor mais próximo da média: {val}')\n",
    "print(f'Soma dos negativos: {neg}')\n",
    "print(f'Quantidade de vizinhos iguais: {eq}')"
   ]
  },
  {
   "cell_type": "markdown",
   "metadata": {},
   "source": [
    "2 Faça um programa que receba duas listas e retorne True se são iguais ou False caso\n",
    "contrario.\n",
    "Duas listas são iguais se possuem os mesmos valores e na mesma ordem."
   ]
  },
  {
   "cell_type": "code",
   "execution_count": null,
   "metadata": {},
   "outputs": [
    {
     "name": "stdout",
     "output_type": "stream",
     "text": [
      "Digite um número: 1\n",
      "Digite um número (Digite -0 para finalizar a lista): 2\n",
      "Digite um número (Digite -0 para finalizar a lista): -0\n",
      "Digite um número (Segunda Lista): 1\n",
      "Digite um número (Digite -0 para finalizar a lista): 2\n",
      "Digite um número (Digite -0 para finalizar a lista): -0\n"
     ]
    }
   ],
   "source": [
    "mylist1 = []\n",
    "mylist2 = []\n",
    "tam = 0\n",
    "num = 0\n",
    "bool = True\n",
    "\n",
    "valor = int(input('Digite um número: '))\n",
    "while valor != -0:\n",
    "    mylist1.append(valor)\n",
    "    valor = int(input('Digite um número (Digite -0 para finalizar a lista): '))\n",
    "    \n",
    "valor = int(input('Digite um número (Segunda Lista): '))\n",
    "while valor != -0:\n",
    "    mylist2.append(valor)\n",
    "    valor = int(input('Digite um número (Digite -0 para finalizar a lista): '))\n",
    "    \n",
    "if len(mylist1) == len(mylist2):\n",
    "    tam = len(mylist1)\n",
    "    while num < tam:\n",
    "        if mylist1[num] != mylist2[num]:\n",
    "            bool = False\n",
    "            num = tam\n",
    "if bool is True:\n",
    "    print('As listas são iguais')\n",
    "else:\n",
    "    print('As listas não são iguais')\n",
    "    "
   ]
  },
  {
   "cell_type": "code",
   "execution_count": null,
   "metadata": {},
   "outputs": [],
   "source": []
  }
 ],
 "metadata": {
  "kernelspec": {
   "display_name": "Python 3",
   "language": "python",
   "name": "python3"
  },
  "language_info": {
   "codemirror_mode": {
    "name": "ipython",
    "version": 3
   },
   "file_extension": ".py",
   "mimetype": "text/x-python",
   "name": "python",
   "nbconvert_exporter": "python",
   "pygments_lexer": "ipython3",
   "version": "3.7.4"
  }
 },
 "nbformat": 4,
 "nbformat_minor": 2
}
