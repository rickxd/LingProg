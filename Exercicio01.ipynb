{
 "cells": [
  {
   "cell_type": "markdown",
   "metadata": {},
   "source": [
    "1 Faça um Programa que peça o raio de um círculo, calcule e mostre sua área."
   ]
  },
  {
   "cell_type": "code",
   "execution_count": 1,
   "metadata": {},
   "outputs": [
    {
     "name": "stdout",
     "output_type": "stream",
     "text": [
      "Digite o raio do circulo: 5\n",
      "A área do circulo é igual a 78.5\n"
     ]
    }
   ],
   "source": [
    "pi = 3.14\n",
    "r = float(input('Digite o raio do circulo: '))\n",
    "A = pi * r ** 2\n",
    "print(f'A área do circulo é igual a {A}')"
   ]
  },
  {
   "cell_type": "markdown",
   "metadata": {},
   "source": [
    "2 Faça um Programa que calcule a área de um quadrado, em seguida mostre o dobro desta área para o usuário."
   ]
  },
  {
   "cell_type": "code",
   "execution_count": 2,
   "metadata": {},
   "outputs": [
    {
     "name": "stdout",
     "output_type": "stream",
     "text": [
      "Digite o valor do lado do quadrado: 2\n",
      "O valor da área do quadrado multiplicado por 2 é igual a 8.0\n"
     ]
    }
   ],
   "source": [
    "l = float(input('Digite o valor do lado do quadrado: '))\n",
    "A = l ** 2\n",
    "print(f'O valor da área do quadrado multiplicado por 2 é igual a {A * 2}')"
   ]
  },
  {
   "cell_type": "markdown",
   "metadata": {},
   "source": [
    "3 Faça um Programa que pergunte quanto você ganha por hora e o número de horas trabalhadas no mês. Calcule e mostre o total do seu salário no referido mês."
   ]
  },
  {
   "cell_type": "code",
   "execution_count": 3,
   "metadata": {},
   "outputs": [
    {
     "name": "stdout",
     "output_type": "stream",
     "text": [
      "Quanto dinheiro você ganha por hora? (Em reais) 7\n",
      "Quantas horas você trabalha por mês?176\n",
      "Você ganha um salário mensal de R$1232.0\n"
     ]
    }
   ],
   "source": [
    "s = float(input('Quanto dinheiro você ganha por hora? (Em reais) '))\n",
    "h = float(input('Quantas horas você trabalha por mês?'))\n",
    "t = s * h\n",
    "print(f'Você ganha um salário mensal de R${t}')"
   ]
  },
  {
   "cell_type": "markdown",
   "metadata": {},
   "source": [
    "4 Faça um Programa que peça a temperatura em graus Farenheit, transforme e mostre a temperatura em graus Celsius. \n",
    "C = (5 * (F-32) / 9)."
   ]
  },
  {
   "cell_type": "code",
   "execution_count": 4,
   "metadata": {},
   "outputs": [
    {
     "name": "stdout",
     "output_type": "stream",
     "text": [
      "Digite a temperatura em graus Farenheit: 32\n",
      "A temperatura digitada é igual a 0.0°C\n"
     ]
    }
   ],
   "source": [
    "F = float(input('Digite a temperatura em graus Farenheit: '))\n",
    "C = (5 * (F - 32) / 9)\n",
    "print(f'A temperatura digitada é igual a {C}°C')"
   ]
  },
  {
   "cell_type": "markdown",
   "metadata": {},
   "source": [
    "5 Faça um Programa que peça a temperatura em graus Celsius, transforme e mostre em graus Farenheit."
   ]
  },
  {
   "cell_type": "code",
   "execution_count": 5,
   "metadata": {},
   "outputs": [
    {
     "name": "stdout",
     "output_type": "stream",
     "text": [
      "Digite a temperatura em graus Celsius: 25\n",
      "A temperatura digitada é igual a 77.0°F\n"
     ]
    }
   ],
   "source": [
    "C = float(input('Digite a temperatura em graus Celsius: '))\n",
    "F = (C * 9) / 5 + 32\n",
    "print(f'A temperatura digitada é igual a {F}°F')"
   ]
  },
  {
   "cell_type": "markdown",
   "metadata": {},
   "source": [
    "6 Faça um Programa que peça 2 números inteiros e um número real. Calcule e mostre: \n",
    "- o produto do dobro do primeiro com metade do segundo . \n",
    "- a soma do triplo do primeiro com o terceiro. \n",
    "- o terceiro elevado ao cubo."
   ]
  },
  {
   "cell_type": "code",
   "execution_count": 6,
   "metadata": {},
   "outputs": [
    {
     "name": "stdout",
     "output_type": "stream",
     "text": [
      "Digite um numero inteiro: 1\n",
      "Digite mais um numero inteiro: 2\n",
      "Digite um numero real: 3\n",
      "2.0\n",
      "6.0\n",
      "27.0\n"
     ]
    }
   ],
   "source": [
    "a = int(input('Digite um numero inteiro: '))\n",
    "b = int(input('Digite mais um numero inteiro: '))\n",
    "c = float(input('Digite um numero real: '))\n",
    "print(f'{(a * 2) * (b / 2)}')\n",
    "print(f'{(a * 3) + c}')\n",
    "print(f'{c ** 3}')"
   ]
  },
  {
   "cell_type": "markdown",
   "metadata": {},
   "source": [
    "7 João Papo-de-Pescador, homem de bem, comprou um microcomputador para controlar o rendimento diário de seu trabalho. Toda vez que ele traz um peso de peixes maior que o estabelecido pelo regulamento de pesca do estado de São Paulo (50 quilos) deve pagar uma multa de R$ 4,00 por quilo excedente. João precisa que você faça um programa que leia a variável peso (peso de peixes) e verifique se há excesso. Se houver, gravar na variável excesso e na variável multa o valor da multa que João deverá pagar. Caso contrário mostrar tais variáveis com o conteúdo ZERO."
   ]
  },
  {
   "cell_type": "code",
   "execution_count": 10,
   "metadata": {
    "scrolled": true
   },
   "outputs": [
    {
     "name": "stdout",
     "output_type": "stream",
     "text": [
      "Digite o peso de peixes: 50.5\n",
      "Há um excesso de 0.5Kg de peixes, e uma multa no valor de R$2.0\n"
     ]
    }
   ],
   "source": [
    "peso = float(input('Digite o peso de peixes: '))\n",
    "excesso = 0\n",
    "multa = 0\n",
    "if peso > 50:\n",
    "    excesso = peso - 50\n",
    "    multa = excesso * 4\n",
    "print(f'Há um excesso de {excesso}Kg de peixes, e uma multa no valor de R${multa}')"
   ]
  },
  {
   "cell_type": "markdown",
   "metadata": {},
   "source": [
    "8 Faça um Programa que pergunte quanto você ganha por hora e o número de horas trabalhadas no mês. Calcule e mostre o total do seu salário no referido mês, sabendo-se que são descontados 11% para o Imposto de Renda, 8% para o INSS e 5% para o sindicato, faça um programa que nos dê: \n",
    "- salário bruto. \n",
    "- quanto pagou ao INSS. \n",
    "- quanto pagou ao sindicato. - o salário líquido. \n",
    "- calcule os descontos e o salário líquido, conforme a tabela abaixo:           \n",
    "    +Salário Bruto : R$ \n",
    "    -IR (11%) : R$\n",
    "    -INSS (8%) : R$           \n",
    "    -Sindicato ( 5%) : R$           \n",
    "    = Salário Liquido : R$ \n",
    "Obs.: Salário Bruto - Descontos = Salário Líquido."
   ]
  },
  {
   "cell_type": "code",
   "execution_count": 12,
   "metadata": {},
   "outputs": [
    {
     "name": "stdout",
     "output_type": "stream",
     "text": [
      "Quanto dinheiro você ganha por hora? (Em reais) 7\n",
      "Quantas horas você trabalha por mês?176\n",
      "Salário bruto: R$1232.0\n",
      "Imposto de Renda: R$135.52\n",
      "INSS: R$98.56\n",
      "Sindicato: R$61.6\n",
      "Salário Líquido: R$936.32\n"
     ]
    }
   ],
   "source": [
    "s = float(input('Quanto dinheiro você ganha por hora? (Em reais) '))\n",
    "h = float(input('Quantas horas você trabalha por mês?'))\n",
    "b = s * h\n",
    "IR = (b * 11) / 100\n",
    "INSS = (b * 8)/100\n",
    "sind = (b * 5)/100\n",
    "print(f'Salário bruto: R${b}\\nImposto de Renda: R${IR}\\nINSS: R${INSS}\\nSindicato: R${sind}\\nSalário Líquido: R${b - IR - INSS - sind}')"
   ]
  },
  {
   "cell_type": "markdown",
   "metadata": {},
   "source": [
    "9 Faça um programa que leia 2 strings e informe o conteúdo delas seguido do seu comprimento. Informe também se as duas strings possuem o mesmo comprimento e são iguais ou diferentes no conteúdo. \n",
    "Exemplo: \n",
    "String 1: Brasil Hexa 2018 \n",
    "String 2: Brasil! Hexa 2018! \n",
    "Tamanho de \"Brasil Hexa 2018\": 16 caracteres \n",
    "Tamanho de \"Brasil! Hexa 2018!\": 18 caracteres \n",
    "As duas strings são de tamanhos diferentes. \n",
    "As duas strings possuem conteúdo diferente."
   ]
  },
  {
   "cell_type": "code",
   "execution_count": 2,
   "metadata": {},
   "outputs": [
    {
     "name": "stdout",
     "output_type": "stream",
     "text": [
      "Digite uma frase: abc\n",
      "Digite mais uma frase: abc\n",
      "Tamanho de abc: 3 caracteres\n",
      "Tamanho de abc: 3 caracteres\n",
      "As duas strings são de tamanhos iguais.\n",
      "As duas strings possuem conteúdo igual.\n"
     ]
    }
   ],
   "source": [
    "a = input('Digite uma frase: ')\n",
    "b = input('Digite mais uma frase: ')\n",
    "print(f'Tamanho de {a}: {len(a)} caracteres')\n",
    "print(f'Tamanho de {b}: {len(b)} caracteres')\n",
    "if len(a) == len(b):\n",
    "    print('As duas strings são de tamanhos iguais.')\n",
    "else:\n",
    "    print('As duas strings são de tamanhos diferentes.')\n",
    "if a == b:\n",
    "    print('As duas strings possuem conteúdo igual.')\n",
    "else:\n",
    "    print('As duas strings possuem conteúdo diferente.')"
   ]
  },
  {
   "cell_type": "markdown",
   "metadata": {},
   "source": [
    "10 Faça um programa que permita ao usuário digitar o seu nome e em seguida mostre o nome do usuário de trás para frente utilizando somente letras maiúsculas. Dica: lembre−se que ao informar o nome o usuário pode digitar letras maiúsculas ou minúsculas. Observação: não use loops."
   ]
  },
  {
   "cell_type": "code",
   "execution_count": 4,
   "metadata": {},
   "outputs": [
    {
     "name": "stdout",
     "output_type": "stream",
     "text": [
      "Digite seu nome: Henrique Marques Bomfim\n",
      "MIFMOB SEUQRAM EUQIRNEH\n"
     ]
    }
   ],
   "source": [
    "nome = input('Digite seu nome: ')\n",
    "print(nome[::-1].upper())"
   ]
  },
  {
   "cell_type": "markdown",
   "metadata": {},
   "source": [
    "11 Faça um programa que solicite a data de nascimento (dd/mm/aaaa) do usuário e imprima a data com o nome do mês por extenso. Data de Nascimento: 29/10/1973\n",
    "Você nasceu em  29 de Outubro de 1973. Obs.: Não use desvio condicional nem loops."
   ]
  },
  {
   "cell_type": "code",
   "execution_count": 5,
   "metadata": {},
   "outputs": [
    {
     "name": "stdout",
     "output_type": "stream",
     "text": [
      "Digite sua data de nascimento: 25/11/1999\n",
      "Você nasceu em 25 de Novembro de 1999\n"
     ]
    }
   ],
   "source": [
    "data = input('Digite sua data de nascimento (dd/mm/aaaa): ')\n",
    "dia, mes, ano = data.split('/')\n",
    "mesnom = ['Janeiro', 'Fevereiro', 'Março', 'Abril', 'Maio', 'Junho', 'Julho', 'Agosto', 'Setembro', 'Outubro', 'Novembro', 'Dezembro']\n",
    "print(f'Você nasceu em {dia} de {mesnom[int(mes) - 1]} de {ano}')"
   ]
  },
  {
   "cell_type": "markdown",
   "metadata": {},
   "source": [
    "12 Leet é uma forma de se escrever o alfabeto latino usando outros símbolos em lugar das letras, como números por exemplo. A própria palavra leet admite muitas variações, como l33t ou 1337. O uso do leet reflete uma subcultura relacionada ao mundo dos jogos de computador e internet, sendo muito usada para confundir os iniciantes e afirmar-se como parte de um grupo. Pesquise sobre as principais formas de traduzir as letras. Depois, faça um programa que peça uma texto e transforme-o para a grafia leet speak. \n",
    "Desafio: não use loops nem desvios condicionais."
   ]
  },
  {
   "cell_type": "code",
   "execution_count": 7,
   "metadata": {},
   "outputs": [
    {
     "name": "stdout",
     "output_type": "stream",
     "text": [
      "Digite uma frase para traduzir em leet: Maluco Brabo\n",
      "Mä£u¢ö BЯäßö\n"
     ]
    }
   ],
   "source": [
    "leet = input('Digite uma frase para traduzir em leet: ')\n",
    "\n",
    "leet = leet.replace('a','ä')\n",
    "leet = leet.replace('b','ß')\n",
    "leet = leet.replace('c','¢')\n",
    "leet = leet.replace('d','I>')\n",
    "leet = leet.replace('e','ë')\n",
    "leet = leet.replace('g','6')\n",
    "leet = leet.replace('h','#')\n",
    "leet = leet.replace('i','ï')\n",
    "leet = leet.replace('j','j')\n",
    "leet = leet.replace('l','£')\n",
    "leet = leet.replace('m','^^')\n",
    "leet = leet.replace('n','//')\n",
    "leet = leet.replace('o','ö')\n",
    "leet = leet.replace('p','p')\n",
    "leet = leet.replace('r','Я')\n",
    "leet = leet.replace('s','§')\n",
    "leet = leet.replace('t','7')\n",
    "leet = leet.replace('x','><')\n",
    "\n",
    "print(leet)"
   ]
  },
  {
   "cell_type": "code",
   "execution_count": null,
   "metadata": {},
   "outputs": [],
   "source": []
  }
 ],
 "metadata": {
  "kernelspec": {
   "display_name": "Python 3",
   "language": "python",
   "name": "python3"
  },
  "language_info": {
   "codemirror_mode": {
    "name": "ipython",
    "version": 3
   },
   "file_extension": ".py",
   "mimetype": "text/x-python",
   "name": "python",
   "nbconvert_exporter": "python",
   "pygments_lexer": "ipython3",
   "version": "3.7.4"
  }
 },
 "nbformat": 4,
 "nbformat_minor": 2
}
